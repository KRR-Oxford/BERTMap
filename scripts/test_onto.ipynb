{
 "metadata": {
  "language_info": {
   "codemirror_mode": {
    "name": "ipython",
    "version": 3
   },
   "file_extension": ".py",
   "mimetype": "text/x-python",
   "name": "python",
   "nbconvert_exporter": "python",
   "pygments_lexer": "ipython3",
   "version": "3.8.5-final"
  },
  "orig_nbformat": 2,
  "kernelspec": {
   "name": "python3",
   "display_name": "Python 3.8.5 64-bit ('base': conda)",
   "metadata": {
    "interpreter": {
     "hash": "e86b4f4b287972b2c5783c099d33ee10e775822b850f5f360c7edf12403ae40c"
    }
   }
  }
 },
 "nbformat": 4,
 "nbformat_minor": 2,
 "cells": [
  {
   "cell_type": "code",
   "execution_count": 14,
   "metadata": {},
   "outputs": [],
   "source": [
    "import sys\n",
    "sys.path.append(\"/home/yuahe/projects/OntoAlign-py\")\n",
    "from ontoalign.embeds import PretrainedBert\n",
    "from ontoalign.onto import Ontology\n",
    "import torch\n",
    "from typing import List\n",
    "import owlready2\n",
    "import itertools"
   ]
  },
  {
   "cell_type": "code",
   "execution_count": 2,
   "metadata": {},
   "outputs": [],
   "source": [
    "onto = Ontology(\"/home/yuahe/projects/OntoAlign-py/largebio_data/ontologies/fma2nci.small.owl\")\n",
    "classes = list(onto.onto.classes())"
   ]
  },
  {
   "cell_type": "code",
   "execution_count": 6,
   "metadata": {},
   "outputs": [
    {
     "output_type": "stream",
     "name": "stdout",
     "text": [
      "['Body substance', 'Portion of body substance'] Portion_of_body_substance\nbody substance <sep> portion of body substance <property> \n(['body substance', 'portion of body substance'], 2)\n--------\n['Epithelial tissue', 'Epithelium', 'Portion of epithelium', 'Textus epithelialis'] Portion_of_epithelium\nepithelial tissue <sep> textus epithelialis <sep> portion of epithelium <sep> epithelium <property> \n(['epithelial tissue', 'textus epithelialis', 'portion of epithelium', 'epithelium'], 4)\n--------\n['Cervical nerve', 'Cervical nerve tree', 'Cervical spinal nerve', 'Nervus cervicalis'] Cervical_nerve\ncervical spinal nerve <sep> cervical nerve tree <sep> cervical nerve <sep> nervus cervicalis <property> \n(['cervical spinal nerve', 'cervical nerve tree', 'cervical nerve', 'nervus cervicalis'], 4)\n--------\n"
     ]
    }
   ],
   "source": [
    "lexical_properties = [\"label\", \"comment\"]\n",
    "for i in [5, 325, 761  ]:\n",
    "    entity = classes[i]\n",
    "    print(entity.label, entity.name) \n",
    "    encoded = \" <property> \".join([onto.encode_entity_lexicon(entity, lp) for lp in lexical_properties])\n",
    "    print(encoded)\n",
    "    print(onto.parse_entity_lexicon(encoded))\n",
    "    print(\"--------\")"
   ]
  },
  {
   "cell_type": "code",
   "execution_count": 7,
   "metadata": {},
   "outputs": [],
   "source": [
    "test = onto.load_iri_lexicon_file(\"/home/yuahe/projects/OntoAlign-py/largebio_data/onto_labels/fma2nci.small.labels.tsv\")"
   ]
  },
  {
   "cell_type": "code",
   "execution_count": 17,
   "metadata": {},
   "outputs": [
    {
     "output_type": "stream",
     "name": "stdout",
     "text": [
      "Load the Pretrained BERT model...\n"
     ]
    }
   ],
   "source": [
    "bert = PretrainedBert(\"emilyalsentzer/Bio_ClinicalBERT\")"
   ]
  },
  {
   "cell_type": "code",
   "execution_count": 25,
   "metadata": {},
   "outputs": [
    {
     "output_type": "execute_result",
     "data": {
      "text/plain": [
       "torch.Size([500, 768])"
      ]
     },
     "metadata": {},
     "execution_count": 25
    }
   ],
   "source": [
    "entity_embeds = []\n",
    "i = 0\n",
    "for batch in onto.iri_lexicon_batch_generator(\"/home/yuahe/projects/OntoAlign-py/largebio_data/onto_labels/fma2nci.small.labels.tsv\", batch_size=250):\n",
    "    batch_entity_iris = batch[\"Entity-IRI\"]\n",
    "    batch_lexicon_sents = []\n",
    "    batch_lexicon_sizes = []\n",
    "    for lexicon in batch[\"Entity-Lexicon\"]:\n",
    "        parsed_lexicon_sents, lexicon_size = onto.parse_entity_lexicon(lexicon)\n",
    "        batch_lexicon_sents.append(parsed_lexicon_sents)\n",
    "        batch_lexicon_sizes.append(lexicon_size)\n",
    "    batch_lexicon_sents = list(itertools.chain.from_iterable(batch_lexicon_sents))\n",
    "    entity_embeds.append(bert.entity_embeds_from_batch_lexicon(\"batch_sent_embeds_last_2_mean\", batch_lexicon_sizes, batch_lexicon_sents))\n",
    "    i += 1\n",
    "    if i == 2:\n",
    "        break\n",
    "torch.cat(entity_embeds, dim=0).shape"
   ]
  },
  {
   "cell_type": "code",
   "execution_count": null,
   "metadata": {},
   "outputs": [],
   "source": []
  }
 ]
}