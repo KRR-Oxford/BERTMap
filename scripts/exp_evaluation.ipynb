{
 "metadata": {
  "language_info": {
   "codemirror_mode": {
    "name": "ipython",
    "version": 3
   },
   "file_extension": ".py",
   "mimetype": "text/x-python",
   "name": "python",
   "nbconvert_exporter": "python",
   "pygments_lexer": "ipython3",
   "version": "3.8.5-final"
  },
  "orig_nbformat": 2,
  "kernelspec": {
   "name": "python3",
   "display_name": "Python 3.8.5 64-bit ('base': conda)",
   "metadata": {
    "interpreter": {
     "hash": "e86b4f4b287972b2c5783c099d33ee10e775822b850f5f360c7edf12403ae40c"
    }
   }
  }
 },
 "nbformat": 4,
 "nbformat_minor": 2,
 "cells": [
  {
   "cell_type": "code",
   "execution_count": 1,
   "metadata": {},
   "outputs": [],
   "source": [
    "from onto_align.designed_exp import DirectNormEditSimExperiment\n",
    "import pandas as pd"
   ]
  },
  {
   "cell_type": "code",
   "execution_count": null,
   "metadata": {},
   "outputs": [],
   "source": [
    "for src, tgt in [(\"fma\", \"nci\")]:\n",
    "    exp = DirectNormEditSimExperiment(\n",
    "                            src, tgt, \n",
    "                            f\"largebio_data/iri2labels/{src}2{tgt}/{src}2{tgt}_small-iri2labels.tsv\", \n",
    "                            f\"largebio_data/iri2labels/{src}2{tgt}/{tgt}2{src}_small-iri2labels.tsv\",\n",
    "                            task_suffix=\"small\")\n",
    "    result = pd.DataFrame(columns=[\"Precision\", \"Recall\", \"F1\", \"#Illegal\", \"Threshold\"])\n",
    "\n",
    "    #  0.0, 0.3, 0.5, 0.6, 0.7, 0.8, 0.9, 1.0\n",
    "    for threshold in [0.0, 0.3, 0.5, 0.6, 0.7, 0.8, 0.9, 1.0]:\n",
    "        dir_name = f\"experiments/{src}2{tgt}_{exp.task_suffix}/{exp.exp_name}/{src}2{tgt}_{exp.task_suffix}-{exp.exp_name}\"\n",
    "        result = result.append(exp.evaluate(f\"{dir_name}-combined.tsv\", f\"largebio_data/references/{src}2{tgt}_legal.tsv\", f\"largebio_data/references/{src}2{tgt}_illegal.tsv\", task_name = f\"{src}2{tgt}-combined\", threshold=threshold))\n",
    "\n",
    "        result = result.append(exp.evaluate(f\"{dir_name}-src2tgt.tsv\", f\"largebio_data/references/{src}2{tgt}_legal.tsv\", f\"largebio_data/references/{src}2{tgt}_illegal.tsv\", task_name = f\"{src}2{tgt}-fixed-src\", threshold=threshold))\n",
    "\n",
    "        result = result.append(exp.evaluate(f\"{dir_name}-tgt2src.tsv\", f\"largebio_data/references/{src}2{tgt}_legal.tsv\", f\"largebio_data/references/{src}2{tgt}_illegal.tsv\", task_name = f\"{src}2{tgt}-fixed-tgt\", threshold=threshold))\n",
    "\n",
    "    display(result)\n",
    "    result.to_csv(f\"experiments/{src}2{tgt}_{exp.task_suffix}/{exp.exp_name}/{src}2{tgt}_{exp.task_suffix}_eval.csv\")"
   ]
  },
  {
   "cell_type": "code",
   "execution_count": 1,
   "metadata": {},
   "outputs": [],
   "source": [
    "from onto_align.onto import Ontology"
   ]
  },
  {
   "cell_type": "code",
   "execution_count": 2,
   "metadata": {},
   "outputs": [],
   "source": [
    "onto = Ontology(\"largebio_data/ontologies/FMA.whole.owl\")"
   ]
  }
 ]
}