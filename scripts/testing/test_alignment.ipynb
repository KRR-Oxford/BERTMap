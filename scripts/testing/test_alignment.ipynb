{
 "metadata": {
  "language_info": {
   "codemirror_mode": {
    "name": "ipython",
    "version": 3
   },
   "file_extension": ".py",
   "mimetype": "text/x-python",
   "name": "python",
   "nbconvert_exporter": "python",
   "pygments_lexer": "ipython3",
   "version": "3.8.5"
  },
  "orig_nbformat": 2,
  "kernelspec": {
   "name": "python3",
   "display_name": "Python 3.8.5 64-bit ('base': conda)",
   "metadata": {
    "interpreter": {
     "hash": "e86b4f4b287972b2c5783c099d33ee10e775822b850f5f360c7edf12403ae40c"
    }
   }
  }
 },
 "nbformat": 4,
 "nbformat_minor": 2,
 "cells": [
  {
   "cell_type": "code",
   "execution_count": 2,
   "metadata": {},
   "outputs": [],
   "source": [
    "import sys\n",
    "sys.path.append(\"/home/yuahe/projects/BERTMap\")\n",
    "from bertmap.map import OntoMapping\n",
    "from bertmap.onto import Ontology\n",
    "import torch\n",
    "from sklearn.metrics.pairwise import cosine_similarity\n",
    "import pandas as pd"
   ]
  },
  {
   "cell_type": "code",
   "execution_count": 4,
   "metadata": {},
   "outputs": [],
   "source": [
    "data_base = \"/home/yuahe/projects/BERTMap/largebio_data/onto_labels/\"\n",
    "exp = OntoMapping(\"fma\", \"nci\", data_base + \"fma2nci.small.labels.tsv\", data_base + \"nci2fma.small.labels.tsv\", None, task_suffix=\"small\", name=\"test_exp\")"
   ]
  },
  {
   "cell_type": "code",
   "execution_count": 5,
   "metadata": {},
   "outputs": [],
   "source": [
    "src_embeds = torch.load(data_base + \"fma2nci.small.mean.pt\")\n",
    "tgt_embeds = torch.load(data_base + \"nci2fma.small.mean.pt\")"
   ]
  },
  {
   "cell_type": "code",
   "execution_count": 6,
   "metadata": {},
   "outputs": [
    {
     "output_type": "display_data",
     "data": {
      "text/plain": "                                        Entity1  \\\n0                              fma:Concept_name   \n1                fma:Part_of_relationship_value   \n2                fma:Physical_anatomical_entity   \n3   fma:Non_physical_anatomical_entity_template   \n4                      fma:Anatomical_structure   \n..                                          ...   \n95                               fma:Histiocyte   \n96                             fma:Alveolar_sac   \n97                                 fma:Alveolus   \n98                    fma:Alveus_of_hippocampus   \n99      fma:Segment_of_white_matter_of_neuraxis   \n\n                                          Entity2     Value  \n0                              nci:Gene_Structure  0.922171  \n1                      nci:Cell_Signaling_Process  0.928095  \n2   nci:Experimental_Organism_Anatomical_Concepts  0.960175  \n3   nci:Experimental_Organism_Anatomical_Concepts  0.952875  \n4                         nci:Anatomical_Sciences  0.964866  \n..                                            ...       ...  \n95                                 nci:Histiocyte  0.984697  \n96                               nci:Alveolar_Sac  0.989405  \n97                                   nci:Alveolus  0.979720  \n98                                       nci:Uvea  0.973392  \n99             nci:Gray_Matter_of_the_Spinal_Cord  0.954406  \n\n[100 rows x 3 columns]",
      "text/html": "<div>\n<style scoped>\n    .dataframe tbody tr th:only-of-type {\n        vertical-align: middle;\n    }\n\n    .dataframe tbody tr th {\n        vertical-align: top;\n    }\n\n    .dataframe thead th {\n        text-align: right;\n    }\n</style>\n<table border=\"1\" class=\"dataframe\">\n  <thead>\n    <tr style=\"text-align: right;\">\n      <th></th>\n      <th>Entity1</th>\n      <th>Entity2</th>\n      <th>Value</th>\n    </tr>\n  </thead>\n  <tbody>\n    <tr>\n      <th>0</th>\n      <td>fma:Concept_name</td>\n      <td>nci:Gene_Structure</td>\n      <td>0.922171</td>\n    </tr>\n    <tr>\n      <th>1</th>\n      <td>fma:Part_of_relationship_value</td>\n      <td>nci:Cell_Signaling_Process</td>\n      <td>0.928095</td>\n    </tr>\n    <tr>\n      <th>2</th>\n      <td>fma:Physical_anatomical_entity</td>\n      <td>nci:Experimental_Organism_Anatomical_Concepts</td>\n      <td>0.960175</td>\n    </tr>\n    <tr>\n      <th>3</th>\n      <td>fma:Non_physical_anatomical_entity_template</td>\n      <td>nci:Experimental_Organism_Anatomical_Concepts</td>\n      <td>0.952875</td>\n    </tr>\n    <tr>\n      <th>4</th>\n      <td>fma:Anatomical_structure</td>\n      <td>nci:Anatomical_Sciences</td>\n      <td>0.964866</td>\n    </tr>\n    <tr>\n      <th>...</th>\n      <td>...</td>\n      <td>...</td>\n      <td>...</td>\n    </tr>\n    <tr>\n      <th>95</th>\n      <td>fma:Histiocyte</td>\n      <td>nci:Histiocyte</td>\n      <td>0.984697</td>\n    </tr>\n    <tr>\n      <th>96</th>\n      <td>fma:Alveolar_sac</td>\n      <td>nci:Alveolar_Sac</td>\n      <td>0.989405</td>\n    </tr>\n    <tr>\n      <th>97</th>\n      <td>fma:Alveolus</td>\n      <td>nci:Alveolus</td>\n      <td>0.979720</td>\n    </tr>\n    <tr>\n      <th>98</th>\n      <td>fma:Alveus_of_hippocampus</td>\n      <td>nci:Uvea</td>\n      <td>0.973392</td>\n    </tr>\n    <tr>\n      <th>99</th>\n      <td>fma:Segment_of_white_matter_of_neuraxis</td>\n      <td>nci:Gray_Matter_of_the_Spinal_Cord</td>\n      <td>0.954406</td>\n    </tr>\n  </tbody>\n</table>\n<p>100 rows × 3 columns</p>\n</div>"
     },
     "metadata": {}
    }
   ],
   "source": [
    "src_batch_generator = Ontology.iri_lexicon_batch_generator(exp.src_onto_lexicon_path, batch_size=100)\n",
    "tgt_batch_generator = Ontology.iri_lexicon_batch_generator(exp.tgt_onto_lexicon_path, batch_size=1000)\n",
    "\n",
    "for src_batch in src_batch_generator:\n",
    "    src_batch_embeds = src_embeds[src_batch.index]\n",
    "    max_scores_list = []\n",
    "    argmax_scores_list = []\n",
    "    batch_mapping = pd.DataFrame(columns=[\"Entity1\", \"Entity2\", \"Value\"])\n",
    "    j = 0\n",
    "    for tgt_batch in tgt_batch_generator:\n",
    "        tgt_batch_embeds = tgt_embeds[tgt_batch.index]\n",
    "        sim_scores = cosine_similarity(src_batch_embeds, tgt_batch_embeds)\n",
    "        max_scores, argmax_scores = sim_scores.max(axis=1), sim_scores.argmax(axis=1) + j * len(tgt_batch)\n",
    "        max_scores_list.append(torch.tensor(max_scores))\n",
    "        argmax_scores_list.append(torch.tensor(argmax_scores))\n",
    "        # display(torch.tensor(max_scores), torch.tensor(argmax_scores))\n",
    "        j += 1\n",
    "    batch_max_scores_all = torch.stack(max_scores_list)\n",
    "    batch_argmax_scores_all = torch.stack(argmax_scores_list)\n",
    "    batch_max_scores, batch_argmax_scores_inds = batch_max_scores_all.max(axis=0)  # value, indices\n",
    "    batch_argmax_scores = torch.gather(batch_argmax_scores_all, dim=0, index=batch_argmax_scores_inds.unsqueeze(0).repeat(j, 1))[0]\n",
    "    batch_mapping[\"Entity1\"] = src_batch[\"Entity-IRI\"]\n",
    "    batch_mapping[\"Entity2\"] = list(exp.tgt_onto_lexicon[\"Entity-IRI\"].iloc[list(batch_argmax_scores.numpy())])\n",
    "    batch_mapping[\"Value\"] = batch_max_scores\n",
    "    display(batch_mapping)\n",
    "    break\n"
   ]
  },
  {
   "cell_type": "code",
   "execution_count": null,
   "metadata": {},
   "outputs": [],
   "source": []
  }
 ]
}