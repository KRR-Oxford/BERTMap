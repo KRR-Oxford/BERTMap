{
 "metadata": {
  "language_info": {
   "codemirror_mode": {
    "name": "ipython",
    "version": 3
   },
   "file_extension": ".py",
   "mimetype": "text/x-python",
   "name": "python",
   "nbconvert_exporter": "python",
   "pygments_lexer": "ipython3",
   "version": "3.8.5-final"
  },
  "orig_nbformat": 2,
  "kernelspec": {
   "name": "python385jvsc74a57bd0e86b4f4b287972b2c5783c099d33ee10e775822b850f5f360c7edf12403ae40c",
   "display_name": "Python 3.8.5 64-bit ('base': conda)"
  }
 },
 "nbformat": 4,
 "nbformat_minor": 2,
 "cells": [
  {
   "cell_type": "code",
   "execution_count": 1,
   "metadata": {},
   "outputs": [],
   "source": [
    "import sys\n",
    "sys.path.append(\"/home/yuahe/projects/BERTMap\")\n",
    "from bertmap.corpora import CrossOntoCorpus, MergedOntoCorpus\n",
    "from random import sample, shuffle\n",
    "import pandas as pd"
   ]
  },
  {
   "cell_type": "code",
   "execution_count": 2,
   "metadata": {},
   "outputs": [],
   "source": [
    "corpora_dir = \"/home/yuahe/projects/BERTMap/data/largebio/corpora\"\n",
    "exp_dir = \"/home/yuahe/projects/BERTMap/experiment/bert_fine_tune/data\"\n",
    "src, tgt = \"fma\", \"nci\""
   ]
  },
  {
   "cell_type": "code",
   "execution_count": 3,
   "metadata": {},
   "outputs": [
    {
     "output_type": "stream",
     "name": "stdout",
     "text": [
      "--------------- Corpus Summary --------------\ncorpus_onto: fma2nci\ncorpus_type: Cross-ontology Corpus\nhard_nonsynonyms: Not Available\nnum_violated: 6\nsoft_nonsynonyms: 49951\nsynonyms: 13539\n---------------------------------------------\n--------------- Corpus Summary --------------\ncorpus_onto: fma2nci.small\ncorpus_type: Merged Ontology Corpus\nhard_nonsynonyms: 72418\nid_synonyms: 22853\nnum_violated: 36\nsoft_nonsynonyms: 128073\nsynonyms: 53991\n---------------------------------------------\n"
     ]
    }
   ],
   "source": [
    "cross_onto = CrossOntoCorpus(f\"{src}2{tgt}\", corpus_path=corpora_dir)\n",
    "merged_intra_onto = MergedOntoCorpus(f\"{src}2{tgt}.small\", corpus_path=corpora_dir)"
   ]
  },
  {
   "cell_type": "code",
   "execution_count": 5,
   "metadata": {},
   "outputs": [],
   "source": [
    "# Cross ontology level\n",
    "test_r = cross_onto.train_val_test_split(only_test=True)\n",
    "train_r, val_r, test_r = cross_onto.train_val_test_split(only_test=False)\n",
    "\n",
    "cross_onto.save_labels(test_r, exp_dir + f\"/unsupervised/{src}2{tgt}.us.test.r.tsv\")\n",
    "cross_onto.save_labels(train_r, exp_dir + f\"/semi-supervised/{src}2{tgt}.ss.train.r.tsv\")\n",
    "cross_onto.save_labels(val_r, exp_dir + f\"/semi-supervised/{src}2{tgt}.ss.val.r.tsv\")\n",
    "cross_onto.save_labels(test_r, exp_dir + f\"/semi-supervised/{src}2{tgt}.ss.test.r.tsv\")"
   ]
  },
  {
   "cell_type": "code",
   "execution_count": 7,
   "metadata": {},
   "outputs": [],
   "source": [
    "# Semi-supervised training data\n",
    "train_f_r = merged_intra_onto.train_val_split(only_train=True) + train_r\n",
    "shuffle(train_f_r)\n",
    "train_f_b_r = merged_intra_onto.train_val_split(backward=True, only_train=True) + train_r\n",
    "shuffle(train_f_b_r)\n",
    "train_f_b_i_r = merged_intra_onto.train_val_split(identity=True, backward=True, only_train=True) + train_r\n",
    "shuffle(train_f_b_i_r)\n",
    "\n",
    "merged_intra_onto.save_labels(train_f_r, exp_dir + f\"/semi-supervised/{src}2{tgt}.ss.train.f+r.tsv\")\n",
    "merged_intra_onto.save_labels(train_f_b_r, exp_dir + f\"/semi-supervised/{src}2{tgt}.ss.train.f+b+r.tsv\")\n",
    "merged_intra_onto.save_labels(train_f_b_i_r, exp_dir + f\"/semi-supervised/{src}2{tgt}.ss.train.f+b+i+r.tsv\")"
   ]
  },
  {
   "cell_type": "code",
   "execution_count": 8,
   "metadata": {},
   "outputs": [],
   "source": [
    "# Unsupervised training; validation data\n",
    "train_f, val_f = merged_intra_onto.train_val_split(only_train=False)\n",
    "train_f_b, val_f_b = merged_intra_onto.train_val_split(backward=True, only_train=False)\n",
    "train_f_b_i, val_f_b_i = merged_intra_onto.train_val_split(identity=True, backward=True, only_train=False)\n",
    "\n",
    "merged_intra_onto.save_labels(train_f, exp_dir + f\"/unsupervised/{src}2{tgt}.us.train.f.tsv\")\n",
    "merged_intra_onto.save_labels(train_f_b, exp_dir + f\"/unsupervised/{src}2{tgt}.us.train.f+b.tsv\")\n",
    "merged_intra_onto.save_labels(train_f_b, exp_dir + f\"/unsupervised/{src}2{tgt}.us.train.f+b+i.tsv\")\n",
    "\n",
    "merged_intra_onto.save_labels(val_f, exp_dir + f\"/unsupervised/{src}2{tgt}.us.val.f.tsv\")\n",
    "merged_intra_onto.save_labels(val_f_b, exp_dir + f\"/unsupervised/{src}2{tgt}.us.val.f+b.tsv\")\n",
    "merged_intra_onto.save_labels(val_f_b, exp_dir + f\"/unsupervised/{src}2{tgt}.us.val.f+b+i.tsv\")"
   ]
  }
 ]
}