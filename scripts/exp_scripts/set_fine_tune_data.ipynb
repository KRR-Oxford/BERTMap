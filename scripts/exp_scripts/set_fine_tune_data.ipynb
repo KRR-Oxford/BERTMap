{
 "metadata": {
  "language_info": {
   "codemirror_mode": {
    "name": "ipython",
    "version": 3
   },
   "file_extension": ".py",
   "mimetype": "text/x-python",
   "name": "python",
   "nbconvert_exporter": "python",
   "pygments_lexer": "ipython3",
   "version": "3.8.5-final"
  },
  "orig_nbformat": 2,
  "kernelspec": {
   "name": "python385jvsc74a57bd0e86b4f4b287972b2c5783c099d33ee10e775822b850f5f360c7edf12403ae40c",
   "display_name": "Python 3.8.5 64-bit ('base': conda)"
  }
 },
 "nbformat": 4,
 "nbformat_minor": 2,
 "cells": [
  {
   "cell_type": "code",
   "execution_count": 1,
   "metadata": {},
   "outputs": [],
   "source": [
    "import sys\n",
    "sys.path.append(\"/home/yuahe/projects/BERTMap\")\n",
    "from bertmap.corpora import CrossOntoCorpus, IntraOntoCorpusPair\n",
    "import pandas as pd"
   ]
  },
  {
   "cell_type": "code",
   "execution_count": 2,
   "metadata": {},
   "outputs": [],
   "source": [
    "corpora_dir = \"/home/yuahe/projects/BERTMap/data/largebio/copora\"\n",
    "exp_dir = \"/home/yuahe/projects/BERTMap/experiment/bert_fine_tune/data\"\n",
    "src, tgt = \"fma\", \"nci\""
   ]
  },
  {
   "cell_type": "code",
   "execution_count": null,
   "metadata": {},
   "outputs": [],
   "source": [
    "intra_onto = IntraOntoCorpusPair()"
   ]
  }
 ]
}