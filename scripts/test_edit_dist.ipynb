{
 "metadata": {
  "language_info": {
   "codemirror_mode": {
    "name": "ipython",
    "version": 3
   },
   "file_extension": ".py",
   "mimetype": "text/x-python",
   "name": "python",
   "nbconvert_exporter": "python",
   "pygments_lexer": "ipython3",
   "version": "3.8.5-final"
  },
  "orig_nbformat": 2,
  "kernelspec": {
   "name": "python3",
   "display_name": "Python 3.8.5 64-bit ('base': conda)",
   "metadata": {
    "interpreter": {
     "hash": "e86b4f4b287972b2c5783c099d33ee10e775822b850f5f360c7edf12403ae40c"
    }
   }
  }
 },
 "nbformat": 4,
 "nbformat_minor": 2,
 "cells": [
  {
   "cell_type": "code",
   "execution_count": 7,
   "metadata": {},
   "outputs": [],
   "source": [
    "import sys\n",
    "sys.path.append(\"/home/yuahe/projects/OntoAlign-py\")\n",
    "import pandas as pd\n",
    "import time\n",
    "from ontoalign.onto import Ontology\n",
    "from ontoalign.experiments import OntoAlignExperiment\n",
    "from ontoalign.experiments.direct_search import DirectNormEditSimExperiment"
   ]
  },
  {
   "cell_type": "code",
   "execution_count": 8,
   "metadata": {},
   "outputs": [],
   "source": [
    "fma = Ontology.load_iri_lexicon_file(\"/home/yuahe/projects/OntoAlign-py/largebio_data/onto_labels/fma2nci.small.labels.tsv\")"
   ]
  },
  {
   "cell_type": "code",
   "execution_count": 15,
   "metadata": {},
   "outputs": [],
   "source": [
    "test_lexicon = ['zygomatic arch', 'zygoma', 'arcus zygomaticus']\n",
    "idx = fma[\"Entity-Lexicon\"].apply(lambda x: DirectNormEditSimExperiment.max_norm_edit_sim(Ontology.parse_entity_lexicon(x)[0], test_lexicon)).idxmax()"
   ]
  },
  {
   "cell_type": "code",
   "execution_count": 23,
   "metadata": {},
   "outputs": [
    {
     "output_type": "execute_result",
     "data": {
      "text/plain": [
       "['fma:Non_physical_anatomical_entity_template',\n",
       " 'fma:Anatomical_structure',\n",
       " 'fma:Part_of_relationship_value']"
      ]
     },
     "metadata": {},
     "execution_count": 23
    }
   ],
   "source": [
    "list(fma.iloc[[3, 4, 1]][\"Entity-IRI\"])"
   ]
  },
  {
   "cell_type": "code",
   "execution_count": 24,
   "metadata": {},
   "outputs": [
    {
     "output_type": "execute_result",
     "data": {
      "text/plain": [
       "3    fma:Non_physical_anatomical_entity_template\n",
       "4                       fma:Anatomical_structure\n",
       "1                 fma:Part_of_relationship_value\n",
       "Name: Entity-IRI, dtype: object"
      ]
     },
     "metadata": {},
     "execution_count": 24
    }
   ],
   "source": [
    "fma.iloc[[3, 4, 1]][\"Entity-IRI\"]"
   ]
  },
  {
   "cell_type": "code",
   "execution_count": null,
   "metadata": {},
   "outputs": [],
   "source": []
  }
 ]
}